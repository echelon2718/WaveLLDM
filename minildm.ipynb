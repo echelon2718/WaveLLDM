{
 "cells": [
  {
   "cell_type": "markdown",
   "metadata": {},
   "source": [
    "# Improving Speech Audio Quality on Edge Devices with Lightweight Latent Diffusion Models\n",
    "\n",
    "Kevin Putra Santoso - Avalon AI - Institut Teknologi Sepuluh Nopember\n",
    "\n",
    "My Final Year Thesis"
   ]
  },
  {
   "cell_type": "code",
   "execution_count": 1,
   "metadata": {},
   "outputs": [],
   "source": [
    "import torch\n",
    "import torch.nn as nn\n",
    "import torch.nn.functional as F\n",
    "import numpy as np\n",
    "\n",
    "from model.vae.modules import Encoder, Decoder\n",
    "from model.vae.enc_dec import AutoencoderKL"
   ]
  },
  {
   "cell_type": "code",
   "execution_count": 2,
   "metadata": {},
   "outputs": [
    {
     "name": "stdout",
     "output_type": "stream",
     "text": [
      "Melakukan operasi pada z dengan dimensi (1, 64, 16, 32) = 32768 dimensi.\n"
     ]
    }
   ],
   "source": [
    "autoencoder = AutoencoderKL(\n",
    "    enc_config={\"in_channels\": 1, \"intermediate_channels\": 64, \"channel_multipliers\":[1, 2, 4, 8], \"resblock_counts\": 2, \"attn_resolutions\": [16], \"dropout\": 0.1, \"resolution\": 128, \"z_channels\": 64, \"double_z\": True},\n",
    "    dec_config={\"out_channels\": 1, \"intermediate_channels\": 64, \"channel_multipliers\":[8, 4, 2, 1], \"resblock_counts\": 2, \"attn_resolutions\": [16], \"dropout\": 0.1, \"resolution\": 128, \"z_channels\": 64, \"double_z\": False, \"give_pre_end\": False, \"tanh_out\": False},\n",
    ")"
   ]
  },
  {
   "cell_type": "code",
   "execution_count": 3,
   "metadata": {},
   "outputs": [
    {
     "name": "stdout",
     "output_type": "stream",
     "text": [
      "43690113\n"
     ]
    }
   ],
   "source": [
    "def count_parameters(model):\n",
    "    return sum(p.numel() for p in model.parameters() if p.requires_grad)\n",
    "\n",
    "print(count_parameters(autoencoder))"
   ]
  },
  {
   "cell_type": "code",
   "execution_count": 5,
   "metadata": {},
   "outputs": [
    {
     "name": "stdout",
     "output_type": "stream",
     "text": [
      "Melakukan operasi pada z dengan dimensi (1, 64, 16, 32) = 32768 dimensi.\n",
      "Jumlah parameter encoder:  24838528\n",
      "Jumlah parameter decoder:  18474113\n",
      "Jumlah parameter autoencoder:  43690113\n"
     ]
    }
   ],
   "source": [
    "encoder = Encoder(in_channels=1, intermediate_channels=64, channel_multipliers=[1, 2, 4, 8], resblock_counts=2, attn_resolutions=[16], dropout=0.1, resolution=128, z_channels=64, double_z=False)\n",
    "decoder = Decoder(out_channels=1, intermediate_channels=64, channel_multipliers=[8, 4, 2, 1], resblock_counts=2, attn_resolutions=[16], dropout=0.1, resolution=128, z_channels=64, double_z=True, give_pre_end=False, tanh_out=False)\n",
    "\n",
    "# Hitung kompleksitas dari Encoder dan Decoder\n",
    "def count_parameters(model):\n",
    "    return sum(p.numel() for p in model.parameters() if p.requires_grad)\n",
    "\n",
    "print(\"Jumlah parameter encoder: \", count_parameters(encoder))\n",
    "print(\"Jumlah parameter decoder: \", count_parameters(decoder))\n",
    "print(\"Jumlah parameter autoencoder: \", count_parameters(autoencoder))"
   ]
  },
  {
   "cell_type": "code",
   "execution_count": 9,
   "metadata": {},
   "outputs": [],
   "source": [
    "sample_input = torch.randn(1, 1, 128, 256)\n",
    "sample_out, posterior = autoencoder(sample_input)"
   ]
  },
  {
   "cell_type": "code",
   "execution_count": 10,
   "metadata": {},
   "outputs": [
    {
     "data": {
      "text/plain": [
       "tensor([[[[ 0.0719,  0.1570,  0.7188,  ...,  0.7362,  0.6994,  0.1857],\n",
       "          [ 0.2453,  0.3191,  1.0423,  ...,  1.4492,  0.7700,  0.6347],\n",
       "          [ 0.3229,  0.7446,  0.8214,  ...,  1.1271,  0.8766,  0.4230],\n",
       "          ...,\n",
       "          [ 0.0472,  0.1720,  0.3200,  ..., -0.0358,  0.3865,  0.3527],\n",
       "          [ 0.0199,  0.1468,  0.0680,  ..., -0.1693, -0.0338,  0.0712],\n",
       "          [ 0.0605,  0.0740,  0.0959,  ..., -0.1611, -0.1097, -0.0829]]]],\n",
       "       grad_fn=<ConvolutionBackward0>)"
      ]
     },
     "execution_count": 10,
     "metadata": {},
     "output_type": "execute_result"
    }
   ],
   "source": [
    "sample_out"
   ]
  },
  {
   "cell_type": "code",
   "execution_count": 11,
   "metadata": {},
   "outputs": [
    {
     "data": {
      "text/plain": [
       "torch.Size([1, 1, 128, 256])"
      ]
     },
     "execution_count": 11,
     "metadata": {},
     "output_type": "execute_result"
    }
   ],
   "source": [
    "sample_out.shape"
   ]
  },
  {
   "cell_type": "code",
   "execution_count": 31,
   "metadata": {},
   "outputs": [
    {
     "data": {
      "text/plain": [
       "<model.vae.distributions.DiagonalGaussianDistribution at 0x20d5aa90be0>"
      ]
     },
     "execution_count": 31,
     "metadata": {},
     "output_type": "execute_result"
    }
   ],
   "source": [
    "posterior"
   ]
  }
 ],
 "metadata": {
  "kernelspec": {
   "display_name": "MyTorch",
   "language": "python",
   "name": "python3"
  },
  "language_info": {
   "codemirror_mode": {
    "name": "ipython",
    "version": 3
   },
   "file_extension": ".py",
   "mimetype": "text/x-python",
   "name": "python",
   "nbconvert_exporter": "python",
   "pygments_lexer": "ipython3",
   "version": "3.10.13"
  }
 },
 "nbformat": 4,
 "nbformat_minor": 2
}
